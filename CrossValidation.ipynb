{
 "cells": [
  {
   "cell_type": "code",
   "execution_count": 1,
   "id": "8f5d787c-a759-411b-bd0b-4a1fb7f5c726",
   "metadata": {},
   "outputs": [
    {
     "name": "stderr",
     "output_type": "stream",
     "text": [
      "C:\\Users\\faruk.akdemir\\AppData\\Local\\Programs\\Python\\Python310\\lib\\site-packages\\keras\\src\\layers\\core\\dense.py:87: UserWarning: Do not pass an `input_shape`/`input_dim` argument to a layer. When using Sequential models, prefer using an `Input(shape)` object as the first layer in the model instead.\n",
      "  super().__init__(activity_regularizer=activity_regularizer, **kwargs)\n"
     ]
    },
    {
     "name": "stdout",
     "output_type": "stream",
     "text": [
      "Average Validation MAE: 20.134609985351563\n"
     ]
    }
   ],
   "source": [
    "import numpy as np\n",
    "import pandas as pd\n",
    "import random\n",
    "from sklearn.preprocessing import MinMaxScaler\n",
    "from sklearn.model_selection import KFold\n",
    "import tensorflow as tf\n",
    "from tensorflow.keras.models import Sequential\n",
    "from tensorflow.keras.layers import Dense\n",
    "from tensorflow.keras.callbacks import EarlyStopping\n",
    "\n",
    "# Set seeds for reproducibility\n",
    "np.random.seed(20)\n",
    "random.seed(20)\n",
    "tf.random.set_seed(20)\n",
    "\n",
    "# Read and preprocess training data\n",
    "train_data_path = 'train_data.csv'  # Update with the correct path\n",
    "train_df = pd.read_csv(train_data_path, delimiter=';', header=None, skiprows=1, names=['ORB', 'SSIM', 'VGG16', 'GRADED'])\n",
    "\n",
    "# Normalize features\n",
    "scaler = MinMaxScaler()\n",
    "X_train = scaler.fit_transform(train_df[['ORB', 'SSIM', 'VGG16']])\n",
    "y_train = train_df['GRADED'].values\n",
    "\n",
    "# Define cross-validation parameters\n",
    "n_splits = 5\n",
    "kf = KFold(n_splits=n_splits, shuffle=True, random_state=20)\n",
    "\n",
    "# Cross-validation loop\n",
    "val_scores = []\n",
    "for train_index, val_index in kf.split(X_train):\n",
    "    X_train_kfold, X_val_kfold = X_train[train_index], X_train[val_index]\n",
    "    y_train_kfold, y_val_kfold = y_train[train_index], y_train[val_index]\n",
    "\n",
    "    # Define and compile the model\n",
    "    model = Sequential([\n",
    "        Dense(10, input_dim=3, activation='relu'),  # Input layer with 3 inputs, hidden layer with 24 neurons\n",
    "        Dense(10, activation='relu'),  # Second hidden layer\n",
    "        Dense(1, activation='linear')  # Output layer with a single output (grade)\n",
    "    ])\n",
    "    model.compile(optimizer='adam', loss='mean_squared_error', metrics=['mean_absolute_error'])\n",
    "\n",
    "    # Use early stopping to prevent overfitting\n",
    "    early_stopping = EarlyStopping(monitor='val_loss', patience=5, restore_best_weights=True)\n",
    "\n",
    "    # Train the model\n",
    "    model.fit(X_train_kfold, y_train_kfold, epochs=200, validation_data=(X_val_kfold, y_val_kfold), callbacks=[early_stopping], verbose=0)\n",
    "    \n",
    "    # Evaluate the model on the validation data\n",
    "    val_loss, val_mae = model.evaluate(X_val_kfold, y_val_kfold, verbose=0)\n",
    "    val_scores.append(val_mae)\n",
    "\n",
    "# Report the average performance across all folds\n",
    "average_mae = np.mean(val_scores)\n",
    "print(f\"Average Validation MAE: {average_mae}\")\n"
   ]
  },
  {
   "cell_type": "code",
   "execution_count": null,
   "id": "b0534564-5f3d-493c-a6ad-8360dff2d291",
   "metadata": {},
   "outputs": [],
   "source": []
  }
 ],
 "metadata": {
  "kernelspec": {
   "display_name": "Python 3 (ipykernel)",
   "language": "python",
   "name": "python3"
  },
  "language_info": {
   "codemirror_mode": {
    "name": "ipython",
    "version": 3
   },
   "file_extension": ".py",
   "mimetype": "text/x-python",
   "name": "python",
   "nbconvert_exporter": "python",
   "pygments_lexer": "ipython3",
   "version": "3.10.11"
  }
 },
 "nbformat": 4,
 "nbformat_minor": 5
}
